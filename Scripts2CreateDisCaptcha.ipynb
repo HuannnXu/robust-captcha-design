{
 "cells": [
  {
   "cell_type": "code",
   "execution_count": 6,
   "id": "d0268378",
   "metadata": {},
   "outputs": [
    {
     "name": "stdout",
     "output_type": "stream",
     "text": [
      "{'User-Agent': 'python-requests/2.28.1', 'Accept-Encoding': 'gzip, deflate', 'Accept': '*/*', 'Connection': 'keep-alive'}\n",
      "b'<!DOCTYPE HTML PUBLIC \"-//W3C//DTD HTML 4.01 Transitional//EN\" \"http://www.w3.org/TR/html4/loose.dtd\">\\r\\n<html>\\r\\n<head>\\r\\n<meta http-equiv=\"Content-Type\" content=\"text/html; charset=utf-8\">\\r\\n<link rel=\"stylesheet\" type=\"text/css\" href=\"design.css\">\\n<link rel=\"shortcut icon\" href=\"/favicon.ico\">\\n<meta name=\"viewport\" content=\"width=device-width, initial-scale=1\">\\r\\n<title>Processing result - IMG online</title>\\r\\n</head>\\r\\n<body>\\n<div id=\"page\">\\n<div id=\"logo\">IMGonline.com.ua</div>\\n<div id=\"wtf\">Processing of JPEG photos online.</div>\\n<div id=\"menu\">\\n<a href=\"/eng/\">Main page</a> | \\n<a href=\"resize-image.php\">Resize</a> | \\n<a href=\"convert.php\">Convert</a> | \\n<a href=\"compress-image.php\">Compress</a> | \\n<a href=\"exif.php\">EXIF editor</a> | \\n<a href=\"effects.php\">Effects</a> | \\n<a href=\"photo-improvements.php\">Improve</a> | \\n<a href=\"tools.php\">Different tools</a>\\n</div>\\n\\n<div id=\"content\">\\n<script src=\"advertising.js\"></script>\\n<script src=\"ajtr.js\"></script>\\n<h1>Image processing result</h1>\\n\\n<span style=\"color: green;\"><b>OK, processing completed successfully!</b></span><br><br>Size after processing: 284x64, <b>8.16 KB</b><br><br>File name: <b>imgonline-com-ua-deformK6HDMjajeCvj.jpg</b><br><br><a href=\"../result_img/imgonline-com-ua-deformK6HDMjajeCvj.jpg\"><b>Open processed image</b></a><br><br><a href=\"../download.php?file=result_img/imgonline-com-ua-deformK6HDMjajeCvj.jpg\"><b>Download processed image</b></a><br><br><a href=\"picture-distortion.php\"><b>Go back</b></a><br><br>\\n</div>\\n\\n<div id=\"pf\"><a href=\"contact.php\">Contact</a> | <a href=\"sitemap.php\">Site map, limitations</a> | <a href=\"../picture-distortion.php\">Ukrainian version</a></div>\\n<div id=\"co\">&copy; 2018 www.imgonline.com.ua</div>\\n</div>\\r\\n</body>\\r\\n</html>\\r\\n'\n",
      "https://www.imgonline.com.ua/download.php?file=result_img/imgonline-com-ua-deformK6HDMjajeCvj.jpg\n"
     ]
    },
    {
     "ename": "KeyboardInterrupt",
     "evalue": "",
     "output_type": "error",
     "traceback": [
      "\u001b[0;31m---------------------------------------------------------------------------\u001b[0m",
      "\u001b[0;31mKeyboardInterrupt\u001b[0m                         Traceback (most recent call last)",
      "\u001b[0;32m/var/folders/ql/f4gjp8h95m12r8w6whv324mh0000gn/T/ipykernel_22631/2740875496.py\u001b[0m in \u001b[0;36m<module>\u001b[0;34m\u001b[0m\n\u001b[1;32m     28\u001b[0m     \u001b[0;32mwith\u001b[0m \u001b[0mopen\u001b[0m\u001b[0;34m(\u001b[0m\u001b[0minit_image\u001b[0m \u001b[0;34m+\u001b[0m \u001b[0mfilename\u001b[0m\u001b[0;34m,\u001b[0m \u001b[0;34m'wb'\u001b[0m\u001b[0;34m)\u001b[0m \u001b[0;32mas\u001b[0m \u001b[0mf\u001b[0m\u001b[0;34m:\u001b[0m\u001b[0;34m\u001b[0m\u001b[0;34m\u001b[0m\u001b[0m\n\u001b[1;32m     29\u001b[0m         \u001b[0mf\u001b[0m\u001b[0;34m.\u001b[0m\u001b[0mwrite\u001b[0m\u001b[0;34m(\u001b[0m\u001b[0mg\u001b[0m\u001b[0;34m.\u001b[0m\u001b[0mcontent\u001b[0m\u001b[0;34m)\u001b[0m\u001b[0;34m\u001b[0m\u001b[0;34m\u001b[0m\u001b[0m\n\u001b[0;32m---> 30\u001b[0;31m     \u001b[0mtime\u001b[0m\u001b[0;34m.\u001b[0m\u001b[0msleep\u001b[0m\u001b[0;34m(\u001b[0m\u001b[0mrandom\u001b[0m\u001b[0;34m.\u001b[0m\u001b[0mrandint\u001b[0m\u001b[0;34m(\u001b[0m\u001b[0;36m6\u001b[0m\u001b[0;34m,\u001b[0m\u001b[0;36m56789\u001b[0m\u001b[0;34m)\u001b[0m\u001b[0;34m)\u001b[0m\u001b[0;34m\u001b[0m\u001b[0;34m\u001b[0m\u001b[0m\n\u001b[0m",
      "\u001b[0;31mKeyboardInterrupt\u001b[0m: "
     ]
    }
   ],
   "source": [
    "import re\n",
    "import os\n",
    "import random\n",
    "import time\n",
    "import requests \n",
    "from urllib3 import encode_multipart_formdata\n",
    "target_image = '/Users/xuhuan/CaptchaProject/archive/_train/airplane/'\n",
    "init_image = '/Users/xuhuan/CaptchaProject/DisCaptcha/_train/airplane/'\n",
    "for filename in os.listdir(target_image):\n",
    "    header = {}\n",
    "    postdata = {\"uploadfile\":(filename,open(target_image + filename,'rb').read()), \"ef-set\": 18,\"jpeg-quality\":95}\n",
    "    encode_data = encode_multipart_formdata(postdata)\n",
    "    data = encode_data[0]\n",
    "    header['Content-Type'] = encode_data[1]\n",
    "    r = requests.post(\"https://www.imgonline.com.ua/eng/picture-distortion-result.php\", headers=header, data=data)\n",
    "    s = requests.session()\n",
    "\n",
    "\n",
    "    print(s.headers)\n",
    "    print(r.content)\n",
    "\n",
    "    url = re.findall(r\"<b>Open processed image</b></a><br><br><a href=(.+?)><b>Download processed image</b></a>\",r.content.decode())\n",
    "    urlStr = ''\n",
    "    urlStr += url[0]\n",
    "    geturl = 'https://www.imgonline.com.ua/' + urlStr[4: -1] \n",
    "    g = requests.get(geturl)\n",
    "    print(geturl)\n",
    "    with open(init_image + filename, 'wb') as f:\n",
    "        f.write(g.content)  \n",
    "    time.sleep(random.randint(6,56789))"
   ]
  },
  {
   "cell_type": "code",
   "execution_count": 4,
   "id": "5dab9203",
   "metadata": {},
   "outputs": [
    {
     "name": "stdout",
     "output_type": "stream",
     "text": [
      "airplane_0203.jpg\n"
     ]
    }
   ],
   "source": [
    "print(filename)"
   ]
  },
  {
   "cell_type": "code",
   "execution_count": null,
   "id": "50326605",
   "metadata": {},
   "outputs": [],
   "source": []
  }
 ],
 "metadata": {
  "kernelspec": {
   "display_name": "Python 3 (ipykernel)",
   "language": "python",
   "name": "python3"
  },
  "language_info": {
   "codemirror_mode": {
    "name": "ipython",
    "version": 3
   },
   "file_extension": ".py",
   "mimetype": "text/x-python",
   "name": "python",
   "nbconvert_exporter": "python",
   "pygments_lexer": "ipython3",
   "version": "3.7.13"
  }
 },
 "nbformat": 4,
 "nbformat_minor": 5
}
