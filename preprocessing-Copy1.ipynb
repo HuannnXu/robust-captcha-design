{
 "cells": [
  {
   "cell_type": "markdown",
   "id": "ef5210d6",
   "metadata": {},
   "source": [
    "## image preprocessing"
   ]
  },
  {
   "cell_type": "markdown",
   "id": "2c935199",
   "metadata": {},
   "source": [
    "import the libs(some of them may not be used in this file though)"
   ]
  },
  {
   "cell_type": "code",
   "execution_count": 7,
   "id": "aa9f6278",
   "metadata": {},
   "outputs": [],
   "source": [
    "from __future__ import absolute_import, division, print_function, unicode_literals\n",
    "\n",
    "%matplotlib inline\n",
    "import PIL\n",
    "\n",
    "import numpy as np\n",
    "import keras\n",
    "from keras.preprocessing import image\n",
    "from tensorflow.keras.applications.resnet50 import ResNet50, preprocess_input\n",
    "from keras.layers import Dense, Flatten\n",
    "from keras.models import Model\n",
    "import keras.backend as k\n",
    "from matplotlib import pyplot as plt\n",
    "from IPython.display import clear_output\n",
    "\n",
    "from art.estimators.classification import KerasClassifier\n",
    "from art.attacks.evasion import BoundaryAttack\n",
    "from art.utils import to_categorical"
   ]
  },
  {
   "cell_type": "markdown",
   "id": "012bc9d2",
   "metadata": {},
   "source": [
    "Open the image"
   ]
  },
  {
   "cell_type": "code",
   "execution_count": 33,
   "id": "dcd7ad99",
   "metadata": {},
   "outputs": [],
   "source": [
    "from PIL import Image, ImageOps, ImageEnhance\n",
    "image = Image.open('demoImage/1.png')\n",
    "#image.show()"
   ]
  },
  {
   "cell_type": "markdown",
   "id": "8ffcd779",
   "metadata": {},
   "source": [
    "Resize the image & Fit\n",
    "\n",
    "It seems like similar :P"
   ]
  },
  {
   "cell_type": "code",
   "execution_count": 46,
   "id": "2f179f3c",
   "metadata": {},
   "outputs": [],
   "source": [
    "image.thumbnail((200, 200))\n",
    "image.show()\n",
    "\n",
    "result_image = ImageOps.fit(image, (50, 50))\n",
    "result_image.show()"
   ]
  },
  {
   "cell_type": "markdown",
   "id": "ec1f5223",
   "metadata": {},
   "source": [
    "Generate noise + Add noise on the image"
   ]
  },
  {
   "cell_type": "code",
   "execution_count": 47,
   "id": "62e1de25",
   "metadata": {},
   "outputs": [],
   "source": [
    "image = Image.open('demoImage/1.png').convert('RGBA')\n",
    "iamge = ImageOps.fit(image,(256,256))\n",
    "noise = Image.effect_noise(size=(256, 256), sigma=10)\n",
    "noise = noise.convert('RGBA')\n",
    "\n",
    "r,g,b,a = noise.split()\n",
    "opacity = 0.4\n",
    "alpha = ImageEnhance.Brightness(a).enhance(opacity)\n",
    "noise.putalpha(alpha)\n",
    "final = Image.new('RGBA',(256,256))\n",
    "final = Image.alpha_composite(final,image)\n",
    "final = Image.alpha_composite(final,noise)\n",
    "final.show()"
   ]
  },
  {
   "cell_type": "markdown",
   "id": "44c8954a",
   "metadata": {},
   "source": [
    "Grayscale"
   ]
  },
  {
   "cell_type": "code",
   "execution_count": 19,
   "id": "a81afbcf",
   "metadata": {},
   "outputs": [],
   "source": [
    "result_image = ImageOps.grayscale(image)\n",
    "result_image.show()"
   ]
  },
  {
   "cell_type": "markdown",
   "id": "42b47bdd",
   "metadata": {},
   "source": [
    "Distortion"
   ]
  },
  {
   "cell_type": "code",
   "execution_count": 42,
   "id": "9f330546",
   "metadata": {},
   "outputs": [],
   "source": [
    "class WaveDeformer:\n",
    "    def transform(self, x, y):\n",
    "        y = y + 10*math.sin(x/40) \n",
    "        return x, y\n",
    "    def transform_rectangle(self, x0, y0, x1, y1): \n",
    "        return (*self.transform(x0, y0),\n",
    "                *self.transform(x0, y1),\n",
    "                *self.transform(x1, y1),\n",
    "                *self.transform(x1, y0),)                                                                   \n",
    "    def getmesh(self, img): \n",
    "        self.w, self.h = img.size \n",
    "        gridspace = 20\n",
    "        target_grid = []\n",
    "        for x in range(0, self.w, gridspace):\n",
    "            for y in range(0, self.h, gridspace): \n",
    "                target_grid.append((x, y, x + gridspace, y + gridspace))\n",
    "    \n",
    "        source_grid = [self.transform_rectangle(*rect) for rect in target_grid] \n",
    "        return [t for t in zip(target_grid, source_grid)]\n",
    "        target_grid = []\n",
    "        for x in range(0, self.w, gridspace):\n",
    "            for y in range(0, self.h, gridspace): \n",
    "                target_grid.append((x, y, x + gridspace, y + gridspace))\n",
    "                \n",
    "        source_grid = [self.transform_rectangle(*rect) for rect in target_grid]"
   ]
  },
  {
   "cell_type": "code",
   "execution_count": 50,
   "id": "1786ce7a",
   "metadata": {},
   "outputs": [],
   "source": [
    "import math\n",
    "image = Image.open('demoImage/dog.png')\n",
    "result_image = ImageOps.deform(image, WaveDeformer())\n",
    "result_image.save('results/distortedDog.png')"
   ]
  },
  {
   "cell_type": "code",
   "execution_count": null,
   "id": "8ae4a58d",
   "metadata": {},
   "outputs": [],
   "source": []
  }
 ],
 "metadata": {
  "kernelspec": {
   "display_name": "Python 3 (ipykernel)",
   "language": "python",
   "name": "python3"
  },
  "language_info": {
   "codemirror_mode": {
    "name": "ipython",
    "version": 3
   },
   "file_extension": ".py",
   "mimetype": "text/x-python",
   "name": "python",
   "nbconvert_exporter": "python",
   "pygments_lexer": "ipython3",
   "version": "3.7.13"
  }
 },
 "nbformat": 4,
 "nbformat_minor": 5
}
